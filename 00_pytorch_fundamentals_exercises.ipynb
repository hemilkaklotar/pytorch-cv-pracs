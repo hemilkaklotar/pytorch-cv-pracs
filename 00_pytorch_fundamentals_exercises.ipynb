{
  "nbformat": 4,
  "nbformat_minor": 0,
  "metadata": {
    "colab": {
      "provenance": [],
      "gpuType": "T4",
      "include_colab_link": true
    },
    "kernelspec": {
      "name": "python3",
      "display_name": "Python 3"
    },
    "language_info": {
      "name": "python"
    },
    "accelerator": "GPU"
  },
  "cells": [
    {
      "cell_type": "markdown",
      "metadata": {
        "id": "view-in-github",
        "colab_type": "text"
      },
      "source": [
        "<a href=\"https://colab.research.google.com/github/hemilkaklotar/pytorch-cv-pracs/blob/main/00_pytorch_fundamentals_exercises.ipynb\" target=\"_parent\"><img src=\"https://colab.research.google.com/assets/colab-badge.svg\" alt=\"Open In Colab\"/></a>"
      ]
    },
    {
      "cell_type": "markdown",
      "source": [
        "# 00. PyTorch Fundamentals Exercises\n",
        "\n",
        "### 1. Documentation reading\n",
        "\n",
        "A big part of deep learning (and learning to code in general) is getting familiar with the documentation of a certain framework you're using. We'll be using the PyTorch documentation a lot throughout the rest of this course. So I'd recommend spending 10-minutes reading the following (it's okay if you don't get some things for now, the focus is not yet full understanding, it's awareness):\n",
        "  * The documentation on [`torch.Tensor`](https://pytorch.org/docs/stable/tensors.html#torch-tensor).\n",
        "  * The documentation on [`torch.cuda`](https://pytorch.org/docs/master/notes/cuda.html#cuda-semantics).\n",
        "\n"
      ],
      "metadata": {
        "id": "AzDBM_v4iMe7"
      }
    },
    {
      "cell_type": "code",
      "source": [
        "# No code solution (reading)"
      ],
      "metadata": {
        "id": "bGD0oD8Kizak"
      },
      "execution_count": null,
      "outputs": []
    },
    {
      "cell_type": "markdown",
      "source": [
        "### 2. Create a random tensor with shape `(7, 7)`.\n"
      ],
      "metadata": {
        "id": "__iXqqz-ioUJ"
      }
    },
    {
      "cell_type": "code",
      "source": [
        "# Import torch\n",
        "import torch\n",
        "\n",
        "# Create random tensor\n",
        "tensor = torch.rand(7,7)\n",
        "tensor.shape, tensor"
      ],
      "metadata": {
        "id": "6pUq9Dc8i2L7",
        "colab": {
          "base_uri": "https://localhost:8080/"
        },
        "outputId": "27fe5f87-ff18-42f5-87eb-ec9ad8bb252c"
      },
      "execution_count": null,
      "outputs": [
        {
          "output_type": "execute_result",
          "data": {
            "text/plain": [
              "(torch.Size([7, 7]),\n",
              " tensor([[0.4989, 0.3033, 0.2418, 0.4344, 0.9534, 0.6473, 0.3408],\n",
              "         [0.2838, 0.6563, 0.7470, 0.8789, 0.4940, 0.1160, 0.9301],\n",
              "         [0.6722, 0.1466, 0.0317, 0.0298, 0.5098, 0.5800, 0.8717],\n",
              "         [0.7224, 0.0705, 0.4592, 0.6961, 0.9882, 0.6168, 0.9101],\n",
              "         [0.2894, 0.8833, 0.1862, 0.6050, 0.2855, 0.6725, 0.4103],\n",
              "         [0.1470, 0.2733, 0.8252, 0.3784, 0.8354, 0.0948, 0.2487],\n",
              "         [0.6565, 0.1073, 0.7510, 0.0792, 0.2616, 0.4295, 0.8772]]))"
            ]
          },
          "metadata": {},
          "execution_count": 4
        }
      ]
    },
    {
      "cell_type": "markdown",
      "source": [
        "### 3. Perform a matrix multiplication on the tensor from 2 with another random tensor with shape `(1, 7)` (hint: you may have to transpose the second tensor)."
      ],
      "metadata": {
        "id": "9-XxvRLfiqkR"
      }
    },
    {
      "cell_type": "code",
      "source": [
        "# Create another random tensor\n",
        "tensor_b = torch.rand(1,7)\n",
        "print(f\"1st tensor shape: {tensor.shape}\")\n",
        "print(f\"2nd tensor shape: {tensor_b.shape}\")\n",
        "\n",
        "# Perform matrix multiplication\n",
        "print(f\"\\nneed transpose of 2nd tensor in order to do matrix multiplication.\")\n",
        "print(f\"2nd tensor Transposed shape: {tensor_b.T.shape}\")\n",
        "matrix_mul_of_ab = torch.matmul(tensor, tensor_b.T)\n",
        "print(f\"Matrix multiplication is {matrix_mul_of_ab}\")\n",
        "\n"
      ],
      "metadata": {
        "id": "NcLqR0Sbi_vT",
        "colab": {
          "base_uri": "https://localhost:8080/"
        },
        "outputId": "f61e975a-81e6-4502-8c59-1986b1daf4d6"
      },
      "execution_count": null,
      "outputs": [
        {
          "output_type": "stream",
          "name": "stdout",
          "text": [
            "1st tensor shape: torch.Size([7, 7])\n",
            "2nd tensor shape: torch.Size([1, 7])\n",
            "\n",
            "need transpose of 2nd tensor in order to do matrix multiplication.\n",
            "2nd tensor Transposed shape: torch.Size([7, 1])\n",
            "Matrix multiplication is tensor([[1.6427],\n",
            "        [1.6575],\n",
            "        [1.2022],\n",
            "        [2.0897],\n",
            "        [1.0140],\n",
            "        [1.6508],\n",
            "        [1.5477]])\n"
          ]
        }
      ]
    },
    {
      "cell_type": "markdown",
      "source": [
        "### 4. Set the random seed to `0` and do 2 & 3 over again.\n",
        "\n",
        "The output should be:\n",
        "```\n",
        "(tensor([[1.8542],\n",
        "         [1.9611],\n",
        "         [2.2884],\n",
        "         [3.0481],\n",
        "         [1.7067],\n",
        "         [2.5290],\n",
        "         [1.7989]]), torch.Size([7, 1]))\n",
        "```"
      ],
      "metadata": {
        "id": "eiutdKUFiryU"
      }
    },
    {
      "cell_type": "code",
      "source": [
        "# Set manual seed\n",
        "RANDOM_SEED = 37\n",
        "\n",
        "# Create two random tensors\n",
        "torch.manual_seed(RANDOM_SEED)\n",
        "tensor_1 = torch.rand(7,7)\n",
        "print(f\"1st tensor: {tensor_1}\")\n",
        "\n",
        "torch.manual_seed(RANDOM_SEED)\n",
        "tensor_2 = torch.rand(1,7)\n",
        "print(f\"2nd tensor: {tensor_2}\")\n",
        "transposed_2nd_tensor = tensor_2.T\n",
        "print(f\"transposed 2nd tensor : {transposed_2nd_tensor}\")\n",
        "\n",
        "# Matrix multiply tensors\n",
        "print(f\"shape of 1st & 2nd tensors : {tensor_1.shape} and {transposed_2nd_tensor.shape}\")\n",
        "mat_mul_with_manual_seed = torch.matmul(tensor_1, transposed_2nd_tensor)\n",
        "print(f\"matrix multiplication is {mat_mul_with_manual_seed}\")"
      ],
      "metadata": {
        "id": "D-lOWI_1jRMm",
        "colab": {
          "base_uri": "https://localhost:8080/"
        },
        "outputId": "5dd51a1f-bc5a-4aca-9bd1-5385c12da743"
      },
      "execution_count": null,
      "outputs": [
        {
          "output_type": "stream",
          "name": "stdout",
          "text": [
            "1st tensor: tensor([[0.7911, 0.6419, 0.8091, 0.1659, 0.3555, 0.6189, 0.9651],\n",
            "        [0.2761, 0.7416, 0.6938, 0.1613, 0.1365, 0.4800, 0.9127],\n",
            "        [0.8418, 0.2175, 0.1866, 0.0027, 0.8767, 0.2960, 0.9326],\n",
            "        [0.8905, 0.6146, 0.0860, 0.5331, 0.3527, 0.6471, 0.3534],\n",
            "        [0.6490, 0.4872, 0.3819, 0.0786, 0.5635, 0.4387, 0.7845],\n",
            "        [0.9706, 0.4670, 0.2574, 0.8911, 0.5720, 0.1148, 0.2160],\n",
            "        [0.5119, 0.9640, 0.9593, 0.7593, 0.3695, 0.0037, 0.6732]])\n",
            "2nd tensor: tensor([[0.7911, 0.6419, 0.8091, 0.1659, 0.3555, 0.6189, 0.9651]])\n",
            "transposed 2nd tensor : tensor([[0.7911],\n",
            "        [0.6419],\n",
            "        [0.8091],\n",
            "        [0.1659],\n",
            "        [0.3555],\n",
            "        [0.6189],\n",
            "        [0.9651]])\n",
            "shape of 1st & 2nd tensors : torch.Size([7, 7]) and torch.Size([7, 1])\n",
            "matrix multiplication is tensor([[3.1610],\n",
            "        [2.5090],\n",
            "        [2.3520],\n",
            "        [2.1240],\n",
            "        [2.3772],\n",
            "        [1.9067],\n",
            "        [2.7092]])\n"
          ]
        }
      ]
    },
    {
      "cell_type": "markdown",
      "source": [
        "### 5. Speaking of random seeds, we saw how to set it with `torch.manual_seed()` but is there a GPU equivalent? (hint: you'll need to look into the documentation for `torch.cuda` for this one)\n",
        "  * If there is, set the GPU random seed to `1234`."
      ],
      "metadata": {
        "id": "ezY6ks9Cis37"
      }
    },
    {
      "cell_type": "code",
      "source": [
        "# Set random seed on the GPU\n"
      ],
      "metadata": {
        "id": "_LKWcfSTjp00"
      },
      "execution_count": null,
      "outputs": []
    },
    {
      "cell_type": "markdown",
      "source": [
        "\n",
        "### 6. Create two random tensors of shape `(2, 3)` and send them both to the GPU (you'll need access to a GPU for this). Set `torch.manual_seed(1234)` when creating the tensors (this doesn't have to be the GPU random seed). The output should be something like:\n",
        "\n",
        "```\n",
        "Device: cuda\n",
        "(tensor([[0.0290, 0.4019, 0.2598],\n",
        "         [0.3666, 0.0583, 0.7006]], device='cuda:0'),\n",
        " tensor([[0.0518, 0.4681, 0.6738],\n",
        "         [0.3315, 0.7837, 0.5631]], device='cuda:0'))\n",
        "```"
      ],
      "metadata": {
        "id": "Ir9qSaj6it4n"
      }
    },
    {
      "cell_type": "code",
      "source": [
        "# Set random seed\n",
        "torch.manual_seed(1234)\n",
        "\n",
        "# Check for access to GPU\n",
        "device = \"cuda\" if torch.cuda.is_available() else \"cpu\"\n",
        "\n",
        "# Create two random tensors on GPU\n",
        "\n",
        "tensor_on_gpu_1 = torch.rand(2, 3).to(device)\n",
        "tensor_on_gpu_2 = torch.rand(2, 3).to(device)\n",
        "tensor_on_gpu_1, tensor_on_gpu_2"
      ],
      "metadata": {
        "id": "azXExiFZj5nm",
        "colab": {
          "base_uri": "https://localhost:8080/"
        },
        "outputId": "96a34b0c-c2c0-4249-d2b1-a856a871710f"
      },
      "execution_count": null,
      "outputs": [
        {
          "output_type": "execute_result",
          "data": {
            "text/plain": [
              "(tensor([[0.0290, 0.4019, 0.2598],\n",
              "         [0.3666, 0.0583, 0.7006]], device='cuda:0'),\n",
              " tensor([[0.0518, 0.4681, 0.6738],\n",
              "         [0.3315, 0.7837, 0.5631]], device='cuda:0'))"
            ]
          },
          "metadata": {},
          "execution_count": 13
        }
      ]
    },
    {
      "cell_type": "markdown",
      "source": [
        "\n",
        "### 7. Perform a matrix multiplication on the tensors you created in 6 (again, you may have to adjust the shapes of one of the tensors).\n",
        "\n",
        "The output should look like:\n",
        "```\n",
        "(tensor([[0.3647, 0.4709],\n",
        "         [0.5184, 0.5617]], device='cuda:0'), torch.Size([2, 2]))\n",
        "```"
      ],
      "metadata": {
        "id": "5TlAxeiSiu1y"
      }
    },
    {
      "cell_type": "code",
      "source": [
        "# Perform matmul on tensor_A and tensor_B\n",
        "tensor_A = tensor_on_gpu_1\n",
        "tensor_B = tensor_on_gpu_2.T\n",
        "mat_mulx = torch.matmul(tensor_A, tensor_B)\n",
        "mat_mulx, mat_mulx.shape"
      ],
      "metadata": {
        "id": "fAeG7ox0lHEO",
        "colab": {
          "base_uri": "https://localhost:8080/"
        },
        "outputId": "8aa178c0-01ce-420a-ee1e-ce66c84b1c5c"
      },
      "execution_count": null,
      "outputs": [
        {
          "output_type": "execute_result",
          "data": {
            "text/plain": [
              "(tensor([[0.3647, 0.4709],\n",
              "         [0.5184, 0.5617]], device='cuda:0'),\n",
              " torch.Size([2, 2]))"
            ]
          },
          "metadata": {},
          "execution_count": 15
        }
      ]
    },
    {
      "cell_type": "markdown",
      "source": [
        "### 8. Find the maximum and minimum values of the output of 7."
      ],
      "metadata": {
        "id": "G7qfa5CSivwg"
      }
    },
    {
      "cell_type": "code",
      "source": [
        "# Find max\n",
        "m_max = mat_mulx.max()\n",
        "# Find min\n",
        "m_min = mat_mulx.min()\n",
        "m_max, m_min"
      ],
      "metadata": {
        "id": "Fu8_3mZpllOd",
        "colab": {
          "base_uri": "https://localhost:8080/"
        },
        "outputId": "733726ca-ed06-4af2-b42f-3dae069b5a57"
      },
      "execution_count": null,
      "outputs": [
        {
          "output_type": "execute_result",
          "data": {
            "text/plain": [
              "(tensor(0.5617, device='cuda:0'), tensor(0.3647, device='cuda:0'))"
            ]
          },
          "metadata": {},
          "execution_count": 18
        }
      ]
    },
    {
      "cell_type": "markdown",
      "source": [
        "### 9. Find the maximum and minimum index values of the output of 7."
      ],
      "metadata": {
        "id": "wrTj5FgNiw47"
      }
    },
    {
      "cell_type": "code",
      "source": [
        "# Find arg max\n",
        "m_argmax = mat_mulx.argmax()\n",
        "\n",
        "# Find arg min\n",
        "m_argmin = mat_mulx.argmin()\n",
        "m_argmax, m_argmin"
      ],
      "metadata": {
        "id": "CCEKt4K2lsfQ",
        "colab": {
          "base_uri": "https://localhost:8080/"
        },
        "outputId": "f82247f9-d6dd-4fe2-8213-a29ca814bcb6"
      },
      "execution_count": null,
      "outputs": [
        {
          "output_type": "execute_result",
          "data": {
            "text/plain": [
              "(tensor(3, device='cuda:0'), tensor(0, device='cuda:0'))"
            ]
          },
          "metadata": {},
          "execution_count": 20
        }
      ]
    },
    {
      "cell_type": "markdown",
      "source": [
        "\n",
        "### 10. Make a random tensor with shape `(1, 1, 1, 10)` and then create a new tensor with all the `1` dimensions removed to be left with a tensor of shape `(10)`. Set the seed to `7` when you create it and print out the first tensor and it's shape as well as the second tensor and it's shape.\n",
        "\n",
        "The output should look like:\n",
        "\n",
        "```\n",
        "tensor([[[[0.5349, 0.1988, 0.6592, 0.6569, 0.2328, 0.4251, 0.2071, 0.6297,\n",
        "           0.3653, 0.8513]]]]) torch.Size([1, 1, 1, 10])\n",
        "tensor([0.5349, 0.1988, 0.6592, 0.6569, 0.2328, 0.4251, 0.2071, 0.6297, 0.3653,\n",
        "        0.8513]) torch.Size([10])\n",
        "```"
      ],
      "metadata": {
        "id": "hmeybz4uixy7"
      }
    },
    {
      "cell_type": "code",
      "source": [
        "# Set seed\n",
        "torch.manual_seed(7)\n",
        "\n",
        "# Create random tensor\n",
        "tensor_rand_1 = torch.rand(1,1,1,10)\n",
        "\n",
        "# Remove single dimensions\n",
        "removed_single_dim_tensor = tensor_rand_1.squeeze()\n",
        "\n",
        "# Print out tensors and their shapes\n",
        "print(tensor_rand_1, tensor_rand_1.shape, end=\"\\n\")\n",
        "print(removed_single_dim_tensor, removed_single_dim_tensor.shape)"
      ],
      "metadata": {
        "id": "TQ9zbRzVl1jV",
        "colab": {
          "base_uri": "https://localhost:8080/"
        },
        "outputId": "24caf758-7b1a-4622-be93-39acd80bc09b"
      },
      "execution_count": null,
      "outputs": [
        {
          "output_type": "stream",
          "name": "stdout",
          "text": [
            "tensor([[[[0.5349, 0.1988, 0.6592, 0.6569, 0.2328, 0.4251, 0.2071, 0.6297,\n",
            "           0.3653, 0.8513]]]]) torch.Size([1, 1, 1, 10])\n",
            "tensor([0.5349, 0.1988, 0.6592, 0.6569, 0.2328, 0.4251, 0.2071, 0.6297, 0.3653,\n",
            "        0.8513]) torch.Size([10])\n"
          ]
        }
      ]
    }
  ]
}